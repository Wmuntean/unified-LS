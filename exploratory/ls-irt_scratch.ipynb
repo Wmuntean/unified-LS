{
 "cells": [
  {
   "cell_type": "code",
   "execution_count": null,
   "id": "7ba3bf1d",
   "metadata": {},
   "outputs": [],
   "source": [
    "import pandas as pd\n",
    "\n",
    "pd.options.display.max_columns = 100\n",
    "pd.options.display.min_rows = 10\n",
    "pd.options.display.precision = 3\n",
    "pd.options.display.float_format = \"{:.3f}\".format\n",
    "\n",
    "import numpy as np\n",
    "\n",
    "np.set_printoptions(precision=3)\n",
    "np.set_printoptions(suppress=True)\n",
    "np.set_printoptions(formatter={\"float_kind\": \"{:.3f}\".format})\n",
    "\n",
    "import sys\n",
    "from pathlib import Path\n",
    "\n",
    "ROOT_PATH = (\n",
    "    Path(\"__file__\").resolve().parents[1]\n",
    ")  # 0 for .py or unsaved notebooks and 1 for .ipynb\n",
    "sys.path.append(ROOT_PATH.as_posix())\n",
    "\n",
    "DATA_PATH = ROOT_PATH / \"data\"\n",
    "RESULTS_PATH = ROOT_PATH / \"results\"\n",
    "MODEL_PATH = ROOT_PATH / \"analysis\" / \"models\""
   ]
  },
  {
   "cell_type": "code",
   "execution_count": null,
   "id": "6cccab79",
   "metadata": {},
   "outputs": [],
   "source": []
  }
 ],
 "metadata": {
  "kernelspec": {
   "display_name": "psych",
   "language": "python",
   "name": "python3"
  },
  "language_info": {
   "codemirror_mode": {
    "name": "ipython",
    "version": 3
   },
   "file_extension": ".py",
   "mimetype": "text/x-python",
   "name": "python",
   "nbconvert_exporter": "python",
   "pygments_lexer": "ipython3",
   "version": "3.12.10"
  }
 },
 "nbformat": 4,
 "nbformat_minor": 5
}
